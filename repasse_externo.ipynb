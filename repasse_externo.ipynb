{
  "cells": [
    {
      "cell_type": "markdown",
      "metadata": {
        "id": "X44txi_Qk2Fa"
      },
      "source": [
        "## Estimando o Impacto das Variáveis Externas na Inflação Brasileira\n",
        "\n",
        "O modelo fundamental utilizado é o seguinte:\n",
        "\n",
        "$$\\pi_t^{nucleo} = \\sum_{i>0} \\beta_{1i} E_t \\pi^{total}_{t+i} +\\sum_{j>0} \\beta_{2j} \\pi^{nucleo}_{t-j} +\\sum_{k \\geq 0} \\beta_{3k} \\pi^{importada}_{t-k} + \\sum_{l>0} \\beta_{4l} hiato_{t-l} + \\epsilon_t$$\n",
        "\n",
        "Em essência, esse modelo descreve a inflação dos preços, excluindo alimentos e produtos administrados, como uma função linear de fatores como a inflação passada, as expectativas de inflação, a diferença entre a produção atual e a produção potencial, e a influência da inflação importada.\n",
        "\n",
        "A estimação do modelo é realizada por meio do método Generalized Method of Moments (GMM).  As variáveis utilizadas no modelo são:\n",
        "\n",
        "  - Hiato do Produto - BCB;\n",
        "  \n",
        "  - IC-Br USD (Var. %. Trim.) - BCB;\n",
        "  \n",
        "  - Expectativa de 12 meses do IPCA Total (a.a%) - BCB;\n",
        "  \n",
        "  - IPCA EX01 (a.a%) - BCB.\n"
      ]
    },
    {
      "cell_type": "markdown",
      "metadata": {
        "id": "_6XuizqGly7M"
      },
      "source": [
        "## 1. Carregamento das bibliotecas"
      ]
    },
    {
      "cell_type": "code",
      "execution_count": 2,
      "metadata": {
        "id": "7oE8Q8ZBkm6T"
      },
      "outputs": [
        {
          "name": "stdout",
          "output_type": "stream",
          "text": [
            "Requirement already satisfied: python-bcb in c:\\users\\pedro\\anaconda3\\lib\\site-packages (0.1.8)\n",
            "Requirement already satisfied: requests<3.0.0,>=2.28.1 in c:\\users\\pedro\\anaconda3\\lib\\site-packages (from python-bcb) (2.31.0)\n",
            "Requirement already satisfied: lxml<5.0.0,>=4.9.1 in c:\\users\\pedro\\anaconda3\\lib\\site-packages (from python-bcb) (4.9.1)\n",
            "Requirement already satisfied: httpx<0.24.0,>=0.23.0 in c:\\users\\pedro\\anaconda3\\lib\\site-packages (from python-bcb) (0.23.3)\n",
            "Requirement already satisfied: pandas<2.0.0,>=1.4.4 in c:\\users\\pedro\\anaconda3\\lib\\site-packages (from python-bcb) (1.5.3)\n",
            "Requirement already satisfied: httpcore<0.17.0,>=0.15.0 in c:\\users\\pedro\\anaconda3\\lib\\site-packages (from httpx<0.24.0,>=0.23.0->python-bcb) (0.16.3)\n",
            "Requirement already satisfied: rfc3986[idna2008]<2,>=1.3 in c:\\users\\pedro\\anaconda3\\lib\\site-packages (from httpx<0.24.0,>=0.23.0->python-bcb) (1.5.0)\n",
            "Requirement already satisfied: certifi in c:\\users\\pedro\\anaconda3\\lib\\site-packages (from httpx<0.24.0,>=0.23.0->python-bcb) (2022.12.7)\n",
            "Requirement already satisfied: sniffio in c:\\users\\pedro\\anaconda3\\lib\\site-packages (from httpx<0.24.0,>=0.23.0->python-bcb) (1.2.0)\n",
            "Requirement already satisfied: python-dateutil>=2.8.1 in c:\\users\\pedro\\anaconda3\\lib\\site-packages (from pandas<2.0.0,>=1.4.4->python-bcb) (2.8.2)\n",
            "Requirement already satisfied: numpy>=1.20.3 in c:\\users\\pedro\\anaconda3\\lib\\site-packages (from pandas<2.0.0,>=1.4.4->python-bcb) (1.22.4)\n",
            "Requirement already satisfied: pytz>=2020.1 in c:\\users\\pedro\\anaconda3\\lib\\site-packages (from pandas<2.0.0,>=1.4.4->python-bcb) (2022.7)\n",
            "Requirement already satisfied: idna<4,>=2.5 in c:\\users\\pedro\\anaconda3\\lib\\site-packages (from requests<3.0.0,>=2.28.1->python-bcb) (3.4)\n",
            "Requirement already satisfied: charset-normalizer<4,>=2 in c:\\users\\pedro\\anaconda3\\lib\\site-packages (from requests<3.0.0,>=2.28.1->python-bcb) (2.0.4)\n",
            "Requirement already satisfied: urllib3<3,>=1.21.1 in c:\\users\\pedro\\anaconda3\\lib\\site-packages (from requests<3.0.0,>=2.28.1->python-bcb) (1.26.14)\n",
            "Requirement already satisfied: h11<0.15,>=0.13 in c:\\users\\pedro\\anaconda3\\lib\\site-packages (from httpcore<0.17.0,>=0.15.0->httpx<0.24.0,>=0.23.0->python-bcb) (0.14.0)\n",
            "Requirement already satisfied: anyio<5.0,>=3.0 in c:\\users\\pedro\\anaconda3\\lib\\site-packages (from httpcore<0.17.0,>=0.15.0->httpx<0.24.0,>=0.23.0->python-bcb) (3.5.0)\n",
            "Requirement already satisfied: six>=1.5 in c:\\users\\pedro\\anaconda3\\lib\\site-packages (from python-dateutil>=2.8.1->pandas<2.0.0,>=1.4.4->python-bcb) (1.16.0)\n",
            "Requirement already satisfied: linearmodels in c:\\users\\pedro\\anaconda3\\lib\\site-packages (4.27)\n",
            "Requirement already satisfied: mypy-extensions>=0.4 in c:\\users\\pedro\\anaconda3\\lib\\site-packages (from linearmodels) (0.4.3)\n",
            "Requirement already satisfied: numpy>=1.16 in c:\\users\\pedro\\anaconda3\\lib\\site-packages (from linearmodels) (1.22.4)\n",
            "Requirement already satisfied: setuptools-scm<7.0.0,>=6.4.2 in c:\\users\\pedro\\anaconda3\\lib\\site-packages (from linearmodels) (6.4.2)\n",
            "Requirement already satisfied: formulaic~=0.3.2 in c:\\users\\pedro\\anaconda3\\lib\\site-packages (from linearmodels) (0.3.4)\n",
            "Requirement already satisfied: property-cached>=1.6.3 in c:\\users\\pedro\\anaconda3\\lib\\site-packages (from linearmodels) (1.6.4)\n",
            "Requirement already satisfied: pandas>=0.24 in c:\\users\\pedro\\anaconda3\\lib\\site-packages (from linearmodels) (1.5.3)\n",
            "Requirement already satisfied: Cython>=0.29.21 in c:\\users\\pedro\\anaconda3\\lib\\site-packages (from linearmodels) (0.29.33)\n",
            "Requirement already satisfied: pyhdfe>=0.1 in c:\\users\\pedro\\anaconda3\\lib\\site-packages (from linearmodels) (0.1.2)\n",
            "Requirement already satisfied: scipy>=1.2 in c:\\users\\pedro\\anaconda3\\lib\\site-packages (from linearmodels) (1.13.0)\n",
            "Requirement already satisfied: statsmodels>=0.11 in c:\\users\\pedro\\anaconda3\\lib\\site-packages (from linearmodels) (0.13.2)\n",
            "Requirement already satisfied: astor>=0.8 in c:\\users\\pedro\\anaconda3\\lib\\site-packages (from formulaic~=0.3.2->linearmodels) (0.8.1)\n",
            "Requirement already satisfied: wrapt>=1.0 in c:\\users\\pedro\\anaconda3\\lib\\site-packages (from formulaic~=0.3.2->linearmodels) (1.12.1)\n",
            "Requirement already satisfied: interface-meta<2.0.0,>=1.2.0 in c:\\users\\pedro\\anaconda3\\lib\\site-packages (from formulaic~=0.3.2->linearmodels) (1.3.0)\n",
            "Requirement already satisfied: python-dateutil>=2.8.1 in c:\\users\\pedro\\anaconda3\\lib\\site-packages (from pandas>=0.24->linearmodels) (2.8.2)\n",
            "Requirement already satisfied: pytz>=2020.1 in c:\\users\\pedro\\anaconda3\\lib\\site-packages (from pandas>=0.24->linearmodels) (2022.7)\n",
            "Requirement already satisfied: setuptools in c:\\users\\pedro\\anaconda3\\lib\\site-packages (from setuptools-scm<7.0.0,>=6.4.2->linearmodels) (64.0.2)\n",
            "Requirement already satisfied: tomli>=1.0.0 in c:\\users\\pedro\\anaconda3\\lib\\site-packages (from setuptools-scm<7.0.0,>=6.4.2->linearmodels) (2.0.1)\n",
            "Requirement already satisfied: packaging>=20.0 in c:\\users\\pedro\\anaconda3\\lib\\site-packages (from setuptools-scm<7.0.0,>=6.4.2->linearmodels) (22.0)\n",
            "Requirement already satisfied: patsy>=0.5.2 in c:\\users\\pedro\\anaconda3\\lib\\site-packages (from statsmodels>=0.11->linearmodels) (0.5.2)\n",
            "Requirement already satisfied: six in c:\\users\\pedro\\anaconda3\\lib\\site-packages (from patsy>=0.5.2->statsmodels>=0.11->linearmodels) (1.16.0)\n"
          ]
        }
      ],
      "source": [
        "!pip install python-bcb\n",
        "!pip install linearmodels"
      ]
    },
    {
      "cell_type": "code",
      "execution_count": 3,
      "metadata": {
        "id": "RPS2gIDWoAWU"
      },
      "outputs": [],
      "source": [
        "from bcb import sgs # Importar dados do SGS\n",
        "from bcb import Expectativas # Importar dados de Expectativas\n",
        "import pandas as pd # Manipulação de dados\n",
        "import numpy as np # Manipulação e cálculo de dados\n",
        "from functools import reduce\n",
        "import seaborn as sns\n",
        "import matplotlib.pyplot as plt\n",
        "from plotnine import *"
      ]
    },
    {
      "cell_type": "markdown",
      "metadata": {
        "id": "8a-u2oABoP5O"
      },
      "source": [
        "## 2. Coleta e Tratamento de dados"
      ]
    },
    {
      "cell_type": "markdown",
      "metadata": {
        "id": "UmNOQoL3oRl0"
      },
      "source": [
        "### 2.1 Expectativas de inflação"
      ]
    },
    {
      "cell_type": "code",
      "execution_count": 4,
      "metadata": {
        "id": "s72IyiESoOxd"
      },
      "outputs": [],
      "source": [
        "# Instância a classe de expectativas\n",
        "em = Expectativas()\n",
        "\n",
        "# Obtém o endpoint da Expectativa de Inflação Acumulada em 12 meses\n",
        "exp_ipca_raw = em.get_endpoint('ExpectativasMercadoInflacao12Meses')\n",
        "\n",
        "# Realiza a importação da Expectativa de Inflação Acumulada em 12 meses\n",
        "exp_ipca = (\n",
        "  exp_ipca_raw.query() # faz a consulta\n",
        " .filter(exp_ipca_raw.Indicador == 'IPCA') # filtra apenas para o IPCA\n",
        " .filter(exp_ipca_raw.baseCalculo == '0') # filtra a Base de Cálculo para 0\n",
        " .filter(exp_ipca_raw.Suavizada == 'S') # filtra Suavizada para S\n",
        " .collect() # faz a importação dos dados\n",
        "  )"
      ]
    },
    {
      "cell_type": "code",
      "execution_count": 5,
      "metadata": {
        "colab": {
          "base_uri": "https://localhost:8080/",
          "height": 423
        },
        "id": "uGClKGiBxLrd",
        "outputId": "54801d2c-f1e7-4d9c-dd55-0b405e48f9da"
      },
      "outputs": [
        {
          "data": {
            "text/html": [
              "<div>\n",
              "<style scoped>\n",
              "    .dataframe tbody tr th:only-of-type {\n",
              "        vertical-align: middle;\n",
              "    }\n",
              "\n",
              "    .dataframe tbody tr th {\n",
              "        vertical-align: top;\n",
              "    }\n",
              "\n",
              "    .dataframe thead th {\n",
              "        text-align: right;\n",
              "    }\n",
              "</style>\n",
              "<table border=\"1\" class=\"dataframe\">\n",
              "  <thead>\n",
              "    <tr style=\"text-align: right;\">\n",
              "      <th></th>\n",
              "      <th>Indicador</th>\n",
              "      <th>Data</th>\n",
              "      <th>Suavizada</th>\n",
              "      <th>Media</th>\n",
              "      <th>Mediana</th>\n",
              "      <th>DesvioPadrao</th>\n",
              "      <th>Minimo</th>\n",
              "      <th>Maximo</th>\n",
              "      <th>numeroRespondentes</th>\n",
              "      <th>baseCalculo</th>\n",
              "    </tr>\n",
              "  </thead>\n",
              "  <tbody>\n",
              "    <tr>\n",
              "      <th>0</th>\n",
              "      <td>IPCA</td>\n",
              "      <td>2001-12-12</td>\n",
              "      <td>S</td>\n",
              "      <td>5.1700</td>\n",
              "      <td>5.2200</td>\n",
              "      <td>0.5600</td>\n",
              "      <td>NaN</td>\n",
              "      <td>NaN</td>\n",
              "      <td>NaN</td>\n",
              "      <td>0</td>\n",
              "    </tr>\n",
              "    <tr>\n",
              "      <th>1</th>\n",
              "      <td>IPCA</td>\n",
              "      <td>2001-12-13</td>\n",
              "      <td>S</td>\n",
              "      <td>5.1600</td>\n",
              "      <td>5.2200</td>\n",
              "      <td>0.5500</td>\n",
              "      <td>NaN</td>\n",
              "      <td>NaN</td>\n",
              "      <td>NaN</td>\n",
              "      <td>0</td>\n",
              "    </tr>\n",
              "    <tr>\n",
              "      <th>2</th>\n",
              "      <td>IPCA</td>\n",
              "      <td>2001-12-14</td>\n",
              "      <td>S</td>\n",
              "      <td>5.1300</td>\n",
              "      <td>5.1500</td>\n",
              "      <td>0.5700</td>\n",
              "      <td>NaN</td>\n",
              "      <td>NaN</td>\n",
              "      <td>NaN</td>\n",
              "      <td>0</td>\n",
              "    </tr>\n",
              "    <tr>\n",
              "      <th>3</th>\n",
              "      <td>IPCA</td>\n",
              "      <td>2001-12-17</td>\n",
              "      <td>S</td>\n",
              "      <td>5.1200</td>\n",
              "      <td>5.1600</td>\n",
              "      <td>0.5700</td>\n",
              "      <td>NaN</td>\n",
              "      <td>NaN</td>\n",
              "      <td>NaN</td>\n",
              "      <td>0</td>\n",
              "    </tr>\n",
              "    <tr>\n",
              "      <th>4</th>\n",
              "      <td>IPCA</td>\n",
              "      <td>2001-12-18</td>\n",
              "      <td>S</td>\n",
              "      <td>5.0900</td>\n",
              "      <td>5.1300</td>\n",
              "      <td>0.5800</td>\n",
              "      <td>NaN</td>\n",
              "      <td>NaN</td>\n",
              "      <td>NaN</td>\n",
              "      <td>0</td>\n",
              "    </tr>\n",
              "    <tr>\n",
              "      <th>...</th>\n",
              "      <td>...</td>\n",
              "      <td>...</td>\n",
              "      <td>...</td>\n",
              "      <td>...</td>\n",
              "      <td>...</td>\n",
              "      <td>...</td>\n",
              "      <td>...</td>\n",
              "      <td>...</td>\n",
              "      <td>...</td>\n",
              "      <td>...</td>\n",
              "    </tr>\n",
              "    <tr>\n",
              "      <th>5618</th>\n",
              "      <td>IPCA</td>\n",
              "      <td>2024-05-06</td>\n",
              "      <td>S</td>\n",
              "      <td>3.6062</td>\n",
              "      <td>3.5986</td>\n",
              "      <td>0.3646</td>\n",
              "      <td>2.6445</td>\n",
              "      <td>5.3404</td>\n",
              "      <td>129.0</td>\n",
              "      <td>0</td>\n",
              "    </tr>\n",
              "    <tr>\n",
              "      <th>5619</th>\n",
              "      <td>IPCA</td>\n",
              "      <td>2024-05-07</td>\n",
              "      <td>S</td>\n",
              "      <td>3.6044</td>\n",
              "      <td>3.5954</td>\n",
              "      <td>0.3651</td>\n",
              "      <td>2.6435</td>\n",
              "      <td>5.3327</td>\n",
              "      <td>130.0</td>\n",
              "      <td>0</td>\n",
              "    </tr>\n",
              "    <tr>\n",
              "      <th>5620</th>\n",
              "      <td>IPCA</td>\n",
              "      <td>2024-05-08</td>\n",
              "      <td>S</td>\n",
              "      <td>3.6077</td>\n",
              "      <td>3.5911</td>\n",
              "      <td>0.3616</td>\n",
              "      <td>2.6424</td>\n",
              "      <td>5.3251</td>\n",
              "      <td>130.0</td>\n",
              "      <td>0</td>\n",
              "    </tr>\n",
              "    <tr>\n",
              "      <th>5621</th>\n",
              "      <td>IPCA</td>\n",
              "      <td>2024-05-09</td>\n",
              "      <td>S</td>\n",
              "      <td>3.6105</td>\n",
              "      <td>3.5998</td>\n",
              "      <td>0.3612</td>\n",
              "      <td>2.6414</td>\n",
              "      <td>5.3174</td>\n",
              "      <td>130.0</td>\n",
              "      <td>0</td>\n",
              "    </tr>\n",
              "    <tr>\n",
              "      <th>5622</th>\n",
              "      <td>IPCA</td>\n",
              "      <td>2024-05-10</td>\n",
              "      <td>S</td>\n",
              "      <td>3.6068</td>\n",
              "      <td>3.6034</td>\n",
              "      <td>0.3701</td>\n",
              "      <td>2.6230</td>\n",
              "      <td>5.3103</td>\n",
              "      <td>129.0</td>\n",
              "      <td>0</td>\n",
              "    </tr>\n",
              "  </tbody>\n",
              "</table>\n",
              "<p>5623 rows × 10 columns</p>\n",
              "</div>"
            ],
            "text/plain": [
              "     Indicador        Data Suavizada   Media  Mediana  DesvioPadrao  Minimo  \\\n",
              "0         IPCA  2001-12-12         S  5.1700   5.2200        0.5600     NaN   \n",
              "1         IPCA  2001-12-13         S  5.1600   5.2200        0.5500     NaN   \n",
              "2         IPCA  2001-12-14         S  5.1300   5.1500        0.5700     NaN   \n",
              "3         IPCA  2001-12-17         S  5.1200   5.1600        0.5700     NaN   \n",
              "4         IPCA  2001-12-18         S  5.0900   5.1300        0.5800     NaN   \n",
              "...        ...         ...       ...     ...      ...           ...     ...   \n",
              "5618      IPCA  2024-05-06         S  3.6062   3.5986        0.3646  2.6445   \n",
              "5619      IPCA  2024-05-07         S  3.6044   3.5954        0.3651  2.6435   \n",
              "5620      IPCA  2024-05-08         S  3.6077   3.5911        0.3616  2.6424   \n",
              "5621      IPCA  2024-05-09         S  3.6105   3.5998        0.3612  2.6414   \n",
              "5622      IPCA  2024-05-10         S  3.6068   3.6034        0.3701  2.6230   \n",
              "\n",
              "      Maximo  numeroRespondentes  baseCalculo  \n",
              "0        NaN                 NaN            0  \n",
              "1        NaN                 NaN            0  \n",
              "2        NaN                 NaN            0  \n",
              "3        NaN                 NaN            0  \n",
              "4        NaN                 NaN            0  \n",
              "...      ...                 ...          ...  \n",
              "5618  5.3404               129.0            0  \n",
              "5619  5.3327               130.0            0  \n",
              "5620  5.3251               130.0            0  \n",
              "5621  5.3174               130.0            0  \n",
              "5622  5.3103               129.0            0  \n",
              "\n",
              "[5623 rows x 10 columns]"
            ]
          },
          "execution_count": 5,
          "metadata": {},
          "output_type": "execute_result"
        }
      ],
      "source": [
        "exp_ipca"
      ]
    },
    {
      "cell_type": "code",
      "execution_count": 6,
      "metadata": {
        "id": "m9kMnMZqr1pz"
      },
      "outputs": [],
      "source": [
        "# Tratamento da IPCA-EX0\n",
        "## Trimestraliza expectativa (média)\n",
        "exp_ipca_aux = (\n",
        "  exp_ipca\n",
        "  # cria colunas de ano e mês para o agrupamento\n",
        " .assign(Year = lambda x: pd.to_datetime(x.Data).dt.year,\n",
        "         Month = lambda x: pd.to_datetime(x.Data).dt.month)\n",
        "  # agrupa por ano e mês\n",
        "  .groupby(by = ['Year', 'Month'])\n",
        "  # calcula a média\n",
        "  .agg({'Mediana' : 'mean'})\n",
        "  .reset_index()\n",
        "  # cria colunas para o trimestre e cria uma coluna de data trimestral\n",
        "  .assign(Quarter = lambda x: pd.to_datetime(x[['Year', 'Month']].assign(Day = 1)),\n",
        "          date_quarter = lambda x: pd.PeriodIndex(x['Quarter'], freq = 'Q'))\n",
        "  # agrupa por trimestre\n",
        "  .groupby(by = 'date_quarter')\n",
        "  # calcula a média\n",
        "  .agg(ipca_exp_12m = ('Mediana', 'mean'))\n",
        "  .reset_index()\n",
        ")"
      ]
    },
    {
      "cell_type": "code",
      "execution_count": 7,
      "metadata": {
        "colab": {
          "base_uri": "https://localhost:8080/",
          "height": 423
        },
        "id": "i7E5z9knugSr",
        "outputId": "d0797fb3-7e79-437f-9235-fb0724289e3b"
      },
      "outputs": [
        {
          "data": {
            "text/html": [
              "<div>\n",
              "<style scoped>\n",
              "    .dataframe tbody tr th:only-of-type {\n",
              "        vertical-align: middle;\n",
              "    }\n",
              "\n",
              "    .dataframe tbody tr th {\n",
              "        vertical-align: top;\n",
              "    }\n",
              "\n",
              "    .dataframe thead th {\n",
              "        text-align: right;\n",
              "    }\n",
              "</style>\n",
              "<table border=\"1\" class=\"dataframe\">\n",
              "  <thead>\n",
              "    <tr style=\"text-align: right;\">\n",
              "      <th></th>\n",
              "      <th>date_quarter</th>\n",
              "      <th>ipca_exp_12m</th>\n",
              "    </tr>\n",
              "  </thead>\n",
              "  <tbody>\n",
              "    <tr>\n",
              "      <th>0</th>\n",
              "      <td>2001Q4</td>\n",
              "      <td>5.030000</td>\n",
              "    </tr>\n",
              "    <tr>\n",
              "      <th>1</th>\n",
              "      <td>2002Q1</td>\n",
              "      <td>4.699958</td>\n",
              "    </tr>\n",
              "    <tr>\n",
              "      <th>2</th>\n",
              "      <td>2002Q2</td>\n",
              "      <td>4.541706</td>\n",
              "    </tr>\n",
              "    <tr>\n",
              "      <th>3</th>\n",
              "      <td>2002Q3</td>\n",
              "      <td>5.062570</td>\n",
              "    </tr>\n",
              "    <tr>\n",
              "      <th>4</th>\n",
              "      <td>2002Q4</td>\n",
              "      <td>9.692981</td>\n",
              "    </tr>\n",
              "    <tr>\n",
              "      <th>...</th>\n",
              "      <td>...</td>\n",
              "      <td>...</td>\n",
              "    </tr>\n",
              "    <tr>\n",
              "      <th>86</th>\n",
              "      <td>2023Q2</td>\n",
              "      <td>4.822036</td>\n",
              "    </tr>\n",
              "    <tr>\n",
              "      <th>87</th>\n",
              "      <td>2023Q3</td>\n",
              "      <td>4.141353</td>\n",
              "    </tr>\n",
              "    <tr>\n",
              "      <th>88</th>\n",
              "      <td>2023Q4</td>\n",
              "      <td>3.932383</td>\n",
              "    </tr>\n",
              "    <tr>\n",
              "      <th>89</th>\n",
              "      <td>2024Q1</td>\n",
              "      <td>3.690813</td>\n",
              "    </tr>\n",
              "    <tr>\n",
              "      <th>90</th>\n",
              "      <td>2024Q2</td>\n",
              "      <td>3.562479</td>\n",
              "    </tr>\n",
              "  </tbody>\n",
              "</table>\n",
              "<p>91 rows × 2 columns</p>\n",
              "</div>"
            ],
            "text/plain": [
              "   date_quarter  ipca_exp_12m\n",
              "0        2001Q4      5.030000\n",
              "1        2002Q1      4.699958\n",
              "2        2002Q2      4.541706\n",
              "3        2002Q3      5.062570\n",
              "4        2002Q4      9.692981\n",
              "..          ...           ...\n",
              "86       2023Q2      4.822036\n",
              "87       2023Q3      4.141353\n",
              "88       2023Q4      3.932383\n",
              "89       2024Q1      3.690813\n",
              "90       2024Q2      3.562479\n",
              "\n",
              "[91 rows x 2 columns]"
            ]
          },
          "execution_count": 7,
          "metadata": {},
          "output_type": "execute_result"
        }
      ],
      "source": [
        "exp_ipca_aux"
      ]
    },
    {
      "cell_type": "markdown",
      "metadata": {
        "id": "41cHe_XT1lfN"
      },
      "source": [
        "### 2.2 IPCA-EX0"
      ]
    },
    {
      "cell_type": "code",
      "execution_count": 8,
      "metadata": {
        "id": "dwM5wole3VDr"
      },
      "outputs": [],
      "source": [
        "# Função para acumular os trimestres\n",
        "def acum_quarter(x):\n",
        "    \"\"\"\n",
        "    Acumula a variação percentual mensal em um trimestre.\n",
        "\n",
        "    Argumentos:\n",
        "    - x: lista, array ou série pandas contendo os valores de inflação.\n",
        "\n",
        "    Retorno:\n",
        "    - A inflação acumulada em um trimestre, em porcentagem.\n",
        "    \"\"\"\n",
        "\n",
        "    # Transforma os valores em fatores de crescimento\n",
        "    x_fac = 1 + (x / 100)\n",
        "\n",
        "    # Calcula o produto acumulado dos últimos três valores\n",
        "    x_cum = np.prod(x_fac[-3:])\n",
        "\n",
        "    # Calcula a inflação acumulada em um trimestre\n",
        "    x_qr = (x_cum - 1) * 100\n",
        "\n",
        "    return x_qr\n",
        "\n",
        "def acum_p(data, n):\n",
        "    \"\"\"\n",
        "    Calcula a acumulação de variações percentuais em janelas móveis.\n",
        "\n",
        "    Argumentos:\n",
        "    - data: array-like\n",
        "        Uma sequência de dados representando variações percentuais.\n",
        "\n",
        "    - n: int\n",
        "        O tamanho da janela móvel para o cálculo da acumulação.\n",
        "\n",
        "    Retorno:\n",
        "    - array\n",
        "        Um array contendo a acumulação das variações percentuais em janelas móveis.\n",
        "    \"\"\"\n",
        "\n",
        "    resultado = (((data / 100) + 1)\n",
        "                 .rolling(window=n)\n",
        "                 .apply(np.prod)\n",
        "                 - 1) * 100\n",
        "    return resultado"
      ]
    },
    {
      "cell_type": "code",
      "execution_count": 9,
      "metadata": {
        "id": "sOaNg3Dg6JBt"
      },
      "outputs": [],
      "source": [
        "# Coleta e tratamento do IPCA-EX0\n",
        "dados_ipca = (\n",
        "    # importa o ipca total e livres do sgs\n",
        "    sgs.get({'ipca_nucleo' : 11427},\n",
        "        start = '1998-01-01')\n",
        "    .reset_index()\n",
        "    # cria coluna de data trimestral\n",
        "    .assign(date_quarter = lambda x: pd.PeriodIndex(x['Date'], freq = 'Q'))\n",
        "    # agrupa por trimestre\n",
        "    .groupby(by = 'date_quarter')\n",
        "    # calcula o acumulado trimestral\n",
        "    .agg({\n",
        "        'ipca_nucleo': lambda x: acum_quarter(x)\n",
        "    })\n",
        "    .reset_index()\n",
        "    # calcula o produto móvel de 4 trimestres\n",
        "    .assign(ipca_nucleo = lambda x: acum_p(x.ipca_nucleo, n = 4))\n",
        ")"
      ]
    },
    {
      "cell_type": "code",
      "execution_count": 10,
      "metadata": {
        "colab": {
          "base_uri": "https://localhost:8080/",
          "height": 423
        },
        "id": "CvnrLyPC8nxe",
        "outputId": "d5a0b231-55c5-4256-d09c-5ddb10d0b16b"
      },
      "outputs": [
        {
          "data": {
            "text/html": [
              "<div>\n",
              "<style scoped>\n",
              "    .dataframe tbody tr th:only-of-type {\n",
              "        vertical-align: middle;\n",
              "    }\n",
              "\n",
              "    .dataframe tbody tr th {\n",
              "        vertical-align: top;\n",
              "    }\n",
              "\n",
              "    .dataframe thead th {\n",
              "        text-align: right;\n",
              "    }\n",
              "</style>\n",
              "<table border=\"1\" class=\"dataframe\">\n",
              "  <thead>\n",
              "    <tr style=\"text-align: right;\">\n",
              "      <th></th>\n",
              "      <th>date_quarter</th>\n",
              "      <th>ipca_nucleo</th>\n",
              "    </tr>\n",
              "  </thead>\n",
              "  <tbody>\n",
              "    <tr>\n",
              "      <th>0</th>\n",
              "      <td>1998Q1</td>\n",
              "      <td>NaN</td>\n",
              "    </tr>\n",
              "    <tr>\n",
              "      <th>1</th>\n",
              "      <td>1998Q2</td>\n",
              "      <td>NaN</td>\n",
              "    </tr>\n",
              "    <tr>\n",
              "      <th>2</th>\n",
              "      <td>1998Q3</td>\n",
              "      <td>NaN</td>\n",
              "    </tr>\n",
              "    <tr>\n",
              "      <th>3</th>\n",
              "      <td>1998Q4</td>\n",
              "      <td>0.982808</td>\n",
              "    </tr>\n",
              "    <tr>\n",
              "      <th>4</th>\n",
              "      <td>1999Q1</td>\n",
              "      <td>1.395896</td>\n",
              "    </tr>\n",
              "    <tr>\n",
              "      <th>...</th>\n",
              "      <td>...</td>\n",
              "      <td>...</td>\n",
              "    </tr>\n",
              "    <tr>\n",
              "      <th>101</th>\n",
              "      <td>2023Q2</td>\n",
              "      <td>5.310332</td>\n",
              "    </tr>\n",
              "    <tr>\n",
              "      <th>102</th>\n",
              "      <td>2023Q3</td>\n",
              "      <td>4.692821</td>\n",
              "    </tr>\n",
              "    <tr>\n",
              "      <th>103</th>\n",
              "      <td>2023Q4</td>\n",
              "      <td>4.132516</td>\n",
              "    </tr>\n",
              "    <tr>\n",
              "      <th>104</th>\n",
              "      <td>2024Q1</td>\n",
              "      <td>3.255330</td>\n",
              "    </tr>\n",
              "    <tr>\n",
              "      <th>105</th>\n",
              "      <td>2024Q2</td>\n",
              "      <td>2.669637</td>\n",
              "    </tr>\n",
              "  </tbody>\n",
              "</table>\n",
              "<p>106 rows × 2 columns</p>\n",
              "</div>"
            ],
            "text/plain": [
              "    date_quarter  ipca_nucleo\n",
              "0         1998Q1          NaN\n",
              "1         1998Q2          NaN\n",
              "2         1998Q3          NaN\n",
              "3         1998Q4     0.982808\n",
              "4         1999Q1     1.395896\n",
              "..           ...          ...\n",
              "101       2023Q2     5.310332\n",
              "102       2023Q3     4.692821\n",
              "103       2023Q4     4.132516\n",
              "104       2024Q1     3.255330\n",
              "105       2024Q2     2.669637\n",
              "\n",
              "[106 rows x 2 columns]"
            ]
          },
          "execution_count": 10,
          "metadata": {},
          "output_type": "execute_result"
        }
      ],
      "source": [
        "dados_ipca"
      ]
    },
    {
      "cell_type": "markdown",
      "metadata": {
        "id": "5yQMcWTeiBTt"
      },
      "source": [
        "### 2.3 IC-br USD"
      ]
    },
    {
      "cell_type": "code",
      "execution_count": 11,
      "metadata": {
        "id": "oFg0-MTIiHgA"
      },
      "outputs": [],
      "source": [
        "# Função para acumular os trimestres\n",
        "def acum_ic(x):\n",
        "    \"\"\"\n",
        "    Calcula a variação acumulada em um determinado período da série do IC-br\n",
        "\n",
        "    Argumentos:\n",
        "    - x: lista, array ou série pandas contendo os valores do IC-br.\n",
        "\n",
        "    Retorno:\n",
        "    - A variação acumulada em um determinado período, em porcentagem.\n",
        "    \"\"\"\n",
        "\n",
        "    # Calcula a variação percentual em relação ao primeiro valor de x\n",
        "    x_diff = np.log(x / x.iloc[0]) * 100\n",
        "\n",
        "    # Retorna o último valor da série x_diff\n",
        "    x_acum = x_diff.iloc[-1]\n",
        "\n",
        "    return x_acum"
      ]
    },
    {
      "cell_type": "code",
      "execution_count": 12,
      "metadata": {
        "id": "qh_7-c1AjbS9"
      },
      "outputs": [],
      "source": [
        "# Coleta e tratamento do IC-br USD\n",
        "dados_ic = (\n",
        "    # importa os dados do ic-br do sgs\n",
        "    sgs.get({'ic_br' : 29042},\n",
        "             start = '1998-01-01')\n",
        "    .reset_index()\n",
        "    # cria coluna de data trimestral\n",
        "    .assign(date_quarter = lambda x: pd.PeriodIndex(x['Date'], freq = 'Q'))\n",
        "    # agrupa por trimestre\n",
        "    .groupby(by = 'date_quarter')\n",
        "    # calcula o acumulado trimestral\n",
        "    .agg({\n",
        "        'ic_br': lambda x: acum_ic(x)\n",
        "    })\n",
        "    .reset_index()\n",
        ")"
      ]
    },
    {
      "cell_type": "code",
      "execution_count": 13,
      "metadata": {
        "colab": {
          "base_uri": "https://localhost:8080/",
          "height": 423
        },
        "id": "RZ2EzqgyuP8b",
        "outputId": "399d4b6d-2c33-4aaa-e0a6-1ba719f72317"
      },
      "outputs": [
        {
          "data": {
            "text/html": [
              "<div>\n",
              "<style scoped>\n",
              "    .dataframe tbody tr th:only-of-type {\n",
              "        vertical-align: middle;\n",
              "    }\n",
              "\n",
              "    .dataframe tbody tr th {\n",
              "        vertical-align: top;\n",
              "    }\n",
              "\n",
              "    .dataframe thead th {\n",
              "        text-align: right;\n",
              "    }\n",
              "</style>\n",
              "<table border=\"1\" class=\"dataframe\">\n",
              "  <thead>\n",
              "    <tr style=\"text-align: right;\">\n",
              "      <th></th>\n",
              "      <th>date_quarter</th>\n",
              "      <th>ic_br</th>\n",
              "    </tr>\n",
              "  </thead>\n",
              "  <tbody>\n",
              "    <tr>\n",
              "      <th>0</th>\n",
              "      <td>1998Q1</td>\n",
              "      <td>-3.910579</td>\n",
              "    </tr>\n",
              "    <tr>\n",
              "      <th>1</th>\n",
              "      <td>1998Q2</td>\n",
              "      <td>-5.008094</td>\n",
              "    </tr>\n",
              "    <tr>\n",
              "      <th>2</th>\n",
              "      <td>1998Q3</td>\n",
              "      <td>-4.150212</td>\n",
              "    </tr>\n",
              "    <tr>\n",
              "      <th>3</th>\n",
              "      <td>1998Q4</td>\n",
              "      <td>-3.858045</td>\n",
              "    </tr>\n",
              "    <tr>\n",
              "      <th>4</th>\n",
              "      <td>1999Q1</td>\n",
              "      <td>-6.631748</td>\n",
              "    </tr>\n",
              "    <tr>\n",
              "      <th>...</th>\n",
              "      <td>...</td>\n",
              "      <td>...</td>\n",
              "    </tr>\n",
              "    <tr>\n",
              "      <th>101</th>\n",
              "      <td>2023Q2</td>\n",
              "      <td>-2.126762</td>\n",
              "    </tr>\n",
              "    <tr>\n",
              "      <th>102</th>\n",
              "      <td>2023Q3</td>\n",
              "      <td>3.632897</td>\n",
              "    </tr>\n",
              "    <tr>\n",
              "      <th>103</th>\n",
              "      <td>2023Q4</td>\n",
              "      <td>-5.908328</td>\n",
              "    </tr>\n",
              "    <tr>\n",
              "      <th>104</th>\n",
              "      <td>2024Q1</td>\n",
              "      <td>5.281916</td>\n",
              "    </tr>\n",
              "    <tr>\n",
              "      <th>105</th>\n",
              "      <td>2024Q2</td>\n",
              "      <td>0.000000</td>\n",
              "    </tr>\n",
              "  </tbody>\n",
              "</table>\n",
              "<p>106 rows × 2 columns</p>\n",
              "</div>"
            ],
            "text/plain": [
              "    date_quarter     ic_br\n",
              "0         1998Q1 -3.910579\n",
              "1         1998Q2 -5.008094\n",
              "2         1998Q3 -4.150212\n",
              "3         1998Q4 -3.858045\n",
              "4         1999Q1 -6.631748\n",
              "..           ...       ...\n",
              "101       2023Q2 -2.126762\n",
              "102       2023Q3  3.632897\n",
              "103       2023Q4 -5.908328\n",
              "104       2024Q1  5.281916\n",
              "105       2024Q2  0.000000\n",
              "\n",
              "[106 rows x 2 columns]"
            ]
          },
          "execution_count": 13,
          "metadata": {},
          "output_type": "execute_result"
        }
      ],
      "source": [
        "dados_ic"
      ]
    },
    {
      "cell_type": "markdown",
      "metadata": {
        "id": "QGirLlV3oqzj"
      },
      "source": [
        "### 2.4 Hiato do Produto\n",
        "\n"
      ]
    },
    {
      "cell_type": "markdown",
      "metadata": {
        "id": "CJ7xGWYO7UTy"
      },
      "source": [
        "O Hiato do Produto pode ser estimado de diferentes formas, tanto por meios estatísticos, seja através do filtro HP, Hamilton ou de Kalman, ou por meio de estimações via função de produção, este último disponibilizado os dados pela IFI e pelo BACEN, com os dados disponibilizadas pelos anexos estatísticos do Relatório de Inflação.\n",
        "\n",
        "Para este exercício, usamos a série do BACEN, disponibilizado pelo [RI202309](https://www.bcb.gov.br/content/ri/relatorioinflacao/202309/ri202309anp.xlsx), ou seja, com dados disponibilizados até 09/2023."
      ]
    },
    {
      "cell_type": "code",
      "execution_count": 14,
      "metadata": {
        "id": "oqOEt4keo6XM"
      },
      "outputs": [],
      "source": [
        "# Coleta e tratamento do Hiato do Produto do BC\n",
        "hiato = (\n",
        "    # lê o arquivo direto da url\n",
        "    pd.read_excel(\n",
        "    \"https://www.bcb.gov.br/content/ri/relatorioinflacao/202403/ri202403anp.xlsx\",\n",
        "    sheet_name = \"Graf 2.2.4\",\n",
        "    skiprows = 8\n",
        "    )\n",
        "    # altera o tipo de dado da coluna de data e do hiato\n",
        "    .assign(date_quarter = lambda x: pd.PeriodIndex(x['Trimestre'], freq = 'Q'),\n",
        "            hiato = lambda x: x.Hiato.astype(float))\n",
        "    .loc[:, ['date_quarter', 'hiato']]\n",
        "  )"
      ]
    },
    {
      "cell_type": "code",
      "execution_count": 15,
      "metadata": {
        "colab": {
          "base_uri": "https://localhost:8080/",
          "height": 423
        },
        "id": "V1hraGY0rN_E",
        "outputId": "afd07475-6790-4bfe-e3ea-75561ec4e578"
      },
      "outputs": [
        {
          "data": {
            "text/html": [
              "<div>\n",
              "<style scoped>\n",
              "    .dataframe tbody tr th:only-of-type {\n",
              "        vertical-align: middle;\n",
              "    }\n",
              "\n",
              "    .dataframe tbody tr th {\n",
              "        vertical-align: top;\n",
              "    }\n",
              "\n",
              "    .dataframe thead th {\n",
              "        text-align: right;\n",
              "    }\n",
              "</style>\n",
              "<table border=\"1\" class=\"dataframe\">\n",
              "  <thead>\n",
              "    <tr style=\"text-align: right;\">\n",
              "      <th></th>\n",
              "      <th>date_quarter</th>\n",
              "      <th>hiato</th>\n",
              "    </tr>\n",
              "  </thead>\n",
              "  <tbody>\n",
              "    <tr>\n",
              "      <th>0</th>\n",
              "      <td>NaT</td>\n",
              "      <td>NaN</td>\n",
              "    </tr>\n",
              "    <tr>\n",
              "      <th>1</th>\n",
              "      <td>2003Q4</td>\n",
              "      <td>-0.83</td>\n",
              "    </tr>\n",
              "    <tr>\n",
              "      <th>2</th>\n",
              "      <td>2004Q1</td>\n",
              "      <td>-0.40</td>\n",
              "    </tr>\n",
              "    <tr>\n",
              "      <th>3</th>\n",
              "      <td>2004Q2</td>\n",
              "      <td>-0.03</td>\n",
              "    </tr>\n",
              "    <tr>\n",
              "      <th>4</th>\n",
              "      <td>2004Q3</td>\n",
              "      <td>0.35</td>\n",
              "    </tr>\n",
              "    <tr>\n",
              "      <th>...</th>\n",
              "      <td>...</td>\n",
              "      <td>...</td>\n",
              "    </tr>\n",
              "    <tr>\n",
              "      <th>78</th>\n",
              "      <td>2023Q1</td>\n",
              "      <td>-0.61</td>\n",
              "    </tr>\n",
              "    <tr>\n",
              "      <th>79</th>\n",
              "      <td>2023Q2</td>\n",
              "      <td>-0.64</td>\n",
              "    </tr>\n",
              "    <tr>\n",
              "      <th>80</th>\n",
              "      <td>2023Q3</td>\n",
              "      <td>-0.66</td>\n",
              "    </tr>\n",
              "    <tr>\n",
              "      <th>81</th>\n",
              "      <td>2023Q4</td>\n",
              "      <td>-0.60</td>\n",
              "    </tr>\n",
              "    <tr>\n",
              "      <th>82</th>\n",
              "      <td>2024Q1</td>\n",
              "      <td>-0.61</td>\n",
              "    </tr>\n",
              "  </tbody>\n",
              "</table>\n",
              "<p>83 rows × 2 columns</p>\n",
              "</div>"
            ],
            "text/plain": [
              "   date_quarter  hiato\n",
              "0           NaT    NaN\n",
              "1        2003Q4  -0.83\n",
              "2        2004Q1  -0.40\n",
              "3        2004Q2  -0.03\n",
              "4        2004Q3   0.35\n",
              "..          ...    ...\n",
              "78       2023Q1  -0.61\n",
              "79       2023Q2  -0.64\n",
              "80       2023Q3  -0.66\n",
              "81       2023Q4  -0.60\n",
              "82       2024Q1  -0.61\n",
              "\n",
              "[83 rows x 2 columns]"
            ]
          },
          "execution_count": 15,
          "metadata": {},
          "output_type": "execute_result"
        }
      ],
      "source": [
        "hiato"
      ]
    },
    {
      "cell_type": "markdown",
      "metadata": {
        "id": "eWJEpre8slWT"
      },
      "source": [
        "### 2.5 Reunir os dados e criar defasagens"
      ]
    },
    {
      "cell_type": "code",
      "execution_count": 16,
      "metadata": {
        "id": "ih_4tUv7uZAL"
      },
      "outputs": [],
      "source": [
        "# lista de dataframes\n",
        "dfs = [dados_ipca, dados_ic, hiato, exp_ipca_aux]\n",
        "\n",
        "# reduz os dataframes pela chave 'date_quarter' com left join\n",
        "dados_reg = reduce(lambda left, right: pd.merge(left, right, on = 'date_quarter', how = 'left'), dfs).dropna()\n",
        "\n",
        "# Altera o tipo de dado da coluna de data para poder plotar\n",
        "dados_reg['date_quarter'] = pd.to_datetime(dados_reg['date_quarter'].dt.strftime('%m-%Y'))"
      ]
    },
    {
      "cell_type": "code",
      "execution_count": 17,
      "metadata": {
        "colab": {
          "base_uri": "https://localhost:8080/",
          "height": 423
        },
        "id": "XdM039LdvbXT",
        "outputId": "c523d085-c957-442a-996f-573dd031d42d"
      },
      "outputs": [
        {
          "data": {
            "text/html": [
              "<div>\n",
              "<style scoped>\n",
              "    .dataframe tbody tr th:only-of-type {\n",
              "        vertical-align: middle;\n",
              "    }\n",
              "\n",
              "    .dataframe tbody tr th {\n",
              "        vertical-align: top;\n",
              "    }\n",
              "\n",
              "    .dataframe thead th {\n",
              "        text-align: right;\n",
              "    }\n",
              "</style>\n",
              "<table border=\"1\" class=\"dataframe\">\n",
              "  <thead>\n",
              "    <tr style=\"text-align: right;\">\n",
              "      <th></th>\n",
              "      <th>date_quarter</th>\n",
              "      <th>ipca_nucleo</th>\n",
              "      <th>ic_br</th>\n",
              "      <th>hiato</th>\n",
              "      <th>ipca_exp_12m</th>\n",
              "    </tr>\n",
              "  </thead>\n",
              "  <tbody>\n",
              "    <tr>\n",
              "      <th>23</th>\n",
              "      <td>2003-12-01</td>\n",
              "      <td>8.163912</td>\n",
              "      <td>4.134817</td>\n",
              "      <td>-0.83</td>\n",
              "      <td>6.043076</td>\n",
              "    </tr>\n",
              "    <tr>\n",
              "      <th>24</th>\n",
              "      <td>2004-03-01</td>\n",
              "      <td>7.087708</td>\n",
              "      <td>6.461361</td>\n",
              "      <td>-0.40</td>\n",
              "      <td>5.656867</td>\n",
              "    </tr>\n",
              "    <tr>\n",
              "      <th>25</th>\n",
              "      <td>2004-06-01</td>\n",
              "      <td>7.151717</td>\n",
              "      <td>1.186196</td>\n",
              "      <td>-0.03</td>\n",
              "      <td>5.739341</td>\n",
              "    </tr>\n",
              "    <tr>\n",
              "      <th>26</th>\n",
              "      <td>2004-09-01</td>\n",
              "      <td>7.493640</td>\n",
              "      <td>1.806028</td>\n",
              "      <td>0.35</td>\n",
              "      <td>6.193146</td>\n",
              "    </tr>\n",
              "    <tr>\n",
              "      <th>27</th>\n",
              "      <td>2004-12-01</td>\n",
              "      <td>7.933131</td>\n",
              "      <td>1.452124</td>\n",
              "      <td>0.63</td>\n",
              "      <td>6.095725</td>\n",
              "    </tr>\n",
              "    <tr>\n",
              "      <th>...</th>\n",
              "      <td>...</td>\n",
              "      <td>...</td>\n",
              "      <td>...</td>\n",
              "      <td>...</td>\n",
              "      <td>...</td>\n",
              "    </tr>\n",
              "    <tr>\n",
              "      <th>100</th>\n",
              "      <td>2023-03-01</td>\n",
              "      <td>7.341027</td>\n",
              "      <td>-4.661394</td>\n",
              "      <td>-0.61</td>\n",
              "      <td>5.502346</td>\n",
              "    </tr>\n",
              "    <tr>\n",
              "      <th>101</th>\n",
              "      <td>2023-06-01</td>\n",
              "      <td>5.310332</td>\n",
              "      <td>-2.126762</td>\n",
              "      <td>-0.64</td>\n",
              "      <td>4.822036</td>\n",
              "    </tr>\n",
              "    <tr>\n",
              "      <th>102</th>\n",
              "      <td>2023-09-01</td>\n",
              "      <td>4.692821</td>\n",
              "      <td>3.632897</td>\n",
              "      <td>-0.66</td>\n",
              "      <td>4.141353</td>\n",
              "    </tr>\n",
              "    <tr>\n",
              "      <th>103</th>\n",
              "      <td>2023-12-01</td>\n",
              "      <td>4.132516</td>\n",
              "      <td>-5.908328</td>\n",
              "      <td>-0.60</td>\n",
              "      <td>3.932383</td>\n",
              "    </tr>\n",
              "    <tr>\n",
              "      <th>104</th>\n",
              "      <td>2024-03-01</td>\n",
              "      <td>3.255330</td>\n",
              "      <td>5.281916</td>\n",
              "      <td>-0.61</td>\n",
              "      <td>3.690813</td>\n",
              "    </tr>\n",
              "  </tbody>\n",
              "</table>\n",
              "<p>82 rows × 5 columns</p>\n",
              "</div>"
            ],
            "text/plain": [
              "    date_quarter  ipca_nucleo     ic_br  hiato  ipca_exp_12m\n",
              "23    2003-12-01     8.163912  4.134817  -0.83      6.043076\n",
              "24    2004-03-01     7.087708  6.461361  -0.40      5.656867\n",
              "25    2004-06-01     7.151717  1.186196  -0.03      5.739341\n",
              "26    2004-09-01     7.493640  1.806028   0.35      6.193146\n",
              "27    2004-12-01     7.933131  1.452124   0.63      6.095725\n",
              "..           ...          ...       ...    ...           ...\n",
              "100   2023-03-01     7.341027 -4.661394  -0.61      5.502346\n",
              "101   2023-06-01     5.310332 -2.126762  -0.64      4.822036\n",
              "102   2023-09-01     4.692821  3.632897  -0.66      4.141353\n",
              "103   2023-12-01     4.132516 -5.908328  -0.60      3.932383\n",
              "104   2024-03-01     3.255330  5.281916  -0.61      3.690813\n",
              "\n",
              "[82 rows x 5 columns]"
            ]
          },
          "execution_count": 17,
          "metadata": {},
          "output_type": "execute_result"
        }
      ],
      "source": [
        "dados_reg"
      ]
    },
    {
      "cell_type": "code",
      "execution_count": 18,
      "metadata": {
        "colab": {
          "base_uri": "https://localhost:8080/",
          "height": 734
        },
        "id": "bJjNNTxX67i4",
        "outputId": "7f7da289-ee38-4744-9ae8-a21a2f6b1e3e"
      },
      "outputs": [
        {
          "name": "stderr",
          "output_type": "stream",
          "text": [
            "c:\\Users\\pedro\\anaconda3\\lib\\site-packages\\plotnine\\facets\\facet.py:440: PlotnineWarning: If you need more space for the x-axis tick text use ... + theme(subplots_adjust={'wspace': 0.25}). Choose an appropriate value for 'wspace'.\n"
          ]
        },
        {
          "data": {
            "image/png": "[encoded data removed]",
            "text/plain": [
              "<Figure size 1000x700 with 4 Axes>"
            ]
          },
          "metadata": {
            "needs_background": "light"
          },
          "output_type": "display_data"
        },
        {
          "data": {
            "text/plain": [
              "<ggplot: (89527703986)>"
            ]
          },
          "execution_count": 18,
          "metadata": {},
          "output_type": "execute_result"
        }
      ],
      "source": [
        "# Verifica as variáveis\n",
        "## passa para o formato long\n",
        "dados_reg_long = dados_reg.melt(id_vars = ['date_quarter'])\n",
        "\n",
        "## Cria o gráfico\n",
        "from plotnine import *\n",
        "\n",
        "(\n",
        "  ggplot(dados_reg_long, aes(x = 'date_quarter', y = 'value', color = 'variable')) +\n",
        "  geom_line(size =  1) +\n",
        "  theme_minimal() +\n",
        "  facet_wrap('variable', scales = 'free_y') +\n",
        "  scale_color_manual(values = ['#eace3f', '#224f20', '#b22200', 'black', \"#666666\"]) +\n",
        "  scale_x_datetime(date_breaks = '2 years', date_labels = \"%Y\") +\n",
        "  labs(\n",
        "    title = 'Variáveis da Curva de Phillips',\n",
        "    x = '',\n",
        "    y = '',\n",
        "    color = \"\",\n",
        "    caption = 'Elaborado por Pedro Marino | Fonte: BCB')+\n",
        "  theme(legend_position = 'bottom',\n",
        "        figure_size = (10, 7))\n",
        "  )"
      ]
    },
    {
      "cell_type": "code",
      "execution_count": 19,
      "metadata": {
        "id": "VoDQp4kXvgMk"
      },
      "outputs": [],
      "source": [
        "# Calcula as defasagens\n",
        "dados_reg['ipca_nucleo_lag1'] = dados_reg['ipca_nucleo'].shift(1)\n",
        "dados_reg['hiato_lag1'] = dados_reg['hiato'].shift(1)\n",
        "dados_reg['ic_br_lag1'] = dados_reg['ic_br'].shift(1)\n",
        "\n",
        "# Retira dados faltantes\n",
        "dados_reg.dropna(inplace = True)"
      ]
    },
    {
      "cell_type": "code",
      "execution_count": 20,
      "metadata": {
        "colab": {
          "base_uri": "https://localhost:8080/"
        },
        "id": "M5BtlnGRa1-7",
        "outputId": "835f3b53-e6c4-4d76-e3f2-1d903873c5b3"
      },
      "outputs": [
        {
          "name": "stdout",
          "output_type": "stream",
          "text": [
            "<class 'pandas.core.frame.DataFrame'>\n",
            "Int64Index: 81 entries, 24 to 104\n",
            "Data columns (total 8 columns):\n",
            " #   Column            Non-Null Count  Dtype         \n",
            "---  ------            --------------  -----         \n",
            " 0   date_quarter      81 non-null     datetime64[ns]\n",
            " 1   ipca_nucleo       81 non-null     float64       \n",
            " 2   ic_br             81 non-null     float64       \n",
            " 3   hiato             81 non-null     float64       \n",
            " 4   ipca_exp_12m      81 non-null     float64       \n",
            " 5   ipca_nucleo_lag1  81 non-null     float64       \n",
            " 6   hiato_lag1        81 non-null     float64       \n",
            " 7   ic_br_lag1        81 non-null     float64       \n",
            "dtypes: datetime64[ns](1), float64(7)\n",
            "memory usage: 5.7 KB\n"
          ]
        }
      ],
      "source": [
        "dados_reg.info()"
      ]
    },
    {
      "cell_type": "markdown",
      "metadata": {
        "id": "vFAWESgax2Fy"
      },
      "source": [
        "## 3. Estimação do Modelo"
      ]
    },
    {
      "cell_type": "markdown",
      "metadata": {
        "id": "J9s-JnHgrYfF"
      },
      "source": [
        "### 3.1 Ajuste do Modelo"
      ]
    },
    {
      "cell_type": "code",
      "execution_count": 21,
      "metadata": {
        "colab": {
          "base_uri": "https://localhost:8080/"
        },
        "id": "oZe3pxC9BBo1",
        "outputId": "7df64678-2ecb-4199-f868-9adb75b28f30"
      },
      "outputs": [
        {
          "name": "stdout",
          "output_type": "stream",
          "text": [
            "                          IV-GMM Estimation Summary                           \n",
            "==============================================================================\n",
            "Dep. Variable:            ipca_nucleo   R-squared:                      0.9886\n",
            "Estimator:                     IV-GMM   Adj. R-squared:                 0.9880\n",
            "No. Observations:                  81   F-statistic:                    9508.1\n",
            "Date:                Wed, May 15 2024   P-value (F-stat)                0.0000\n",
            "Time:                        11:12:36   Distribution:                  chi2(4)\n",
            "Cov. Estimator:                robust                                         \n",
            "                                                                              \n",
            "                                Parameter Estimates                                 \n",
            "====================================================================================\n",
            "                  Parameter  Std. Err.     T-stat    P-value    Lower CI    Upper CI\n",
            "------------------------------------------------------------------------------------\n",
            "hiato_lag1           0.1060     0.0330     3.2116     0.0013      0.0413      0.1707\n",
            "ic_br_lag1           0.0478     0.0129     3.7116     0.0002      0.0226      0.0730\n",
            "ipca_exp_12m         0.2642     0.0678     3.8961     0.0001      0.1313      0.3971\n",
            "ipca_nucleo_lag1     0.7671     0.0627     12.234     0.0000      0.6442      0.8900\n",
            "====================================================================================\n"
          ]
        }
      ],
      "source": [
        "from linearmodels import IVGMM\n",
        "\n",
        "# estima o modelo via formula\n",
        "eq_phillips = IVGMM.from_formula('ipca_nucleo ~  -1 + ipca_nucleo_lag1 + ipca_exp_12m + hiato_lag1 + ic_br_lag1', data = dados_reg).fit()\n",
        "\n",
        "# Sumário do modelo\n",
        "print(eq_phillips.summary)"
      ]
    },
    {
      "cell_type": "markdown",
      "metadata": {
        "id": "jfeskIpyrSof"
      },
      "source": [
        "### 3.2 Verifica os resultados"
      ]
    },
    {
      "cell_type": "code",
      "execution_count": 22,
      "metadata": {
        "id": "FfVAYsf3GDLP"
      },
      "outputs": [],
      "source": [
        "# Cria um DataFrame pandas com os dados da regressão\n",
        "phillips_fit = pd.DataFrame({'date': dados_reg['date_quarter'],\n",
        "                             'Modelo': eq_phillips.fitted_values.fitted_values,\n",
        "                             \"IPCA EX0\" : dados_reg['ipca_nucleo'],\n",
        "                             \"Desvio\" : dados_reg.ipca_nucleo -  eq_phillips.fitted_values.fitted_values,\n",
        "                             \"Resíduo\" : eq_phillips.resids,\n",
        "                             \"ipca_nucleo_lag1\": eq_phillips.params.ipca_nucleo_lag1 * dados_reg.ipca_nucleo_lag1,\n",
        "                             \"ipca_exp_12m\": eq_phillips.params.ipca_exp_12m * dados_reg.ipca_exp_12m,\n",
        "                             \"hiato_lag1\": eq_phillips.params.hiato_lag1 * dados_reg.hiato_lag1,\n",
        "                             \"ic_br_lag1\": eq_phillips.params.ic_br_lag1 * dados_reg.ic_br_lag1})"
      ]
    },
    {
      "cell_type": "code",
      "execution_count": 23,
      "metadata": {
        "colab": {
          "base_uri": "https://localhost:8080/",
          "height": 423
        },
        "id": "3iq8zU34T1RW",
        "outputId": "9871da90-02fa-4e4f-8b99-4df3d3be3603"
      },
      "outputs": [
        {
          "data": {
            "text/html": [
              "<div>\n",
              "<style scoped>\n",
              "    .dataframe tbody tr th:only-of-type {\n",
              "        vertical-align: middle;\n",
              "    }\n",
              "\n",
              "    .dataframe tbody tr th {\n",
              "        vertical-align: top;\n",
              "    }\n",
              "\n",
              "    .dataframe thead th {\n",
              "        text-align: right;\n",
              "    }\n",
              "</style>\n",
              "<table border=\"1\" class=\"dataframe\">\n",
              "  <thead>\n",
              "    <tr style=\"text-align: right;\">\n",
              "      <th></th>\n",
              "      <th>date</th>\n",
              "      <th>Modelo</th>\n",
              "      <th>IPCA EX0</th>\n",
              "      <th>Desvio</th>\n",
              "      <th>Resíduo</th>\n",
              "      <th>ipca_nucleo_lag1</th>\n",
              "      <th>ipca_exp_12m</th>\n",
              "      <th>hiato_lag1</th>\n",
              "      <th>ic_br_lag1</th>\n",
              "    </tr>\n",
              "  </thead>\n",
              "  <tbody>\n",
              "    <tr>\n",
              "      <th>24</th>\n",
              "      <td>2004-03-01</td>\n",
              "      <td>7.866548</td>\n",
              "      <td>7.087708</td>\n",
              "      <td>-0.778840</td>\n",
              "      <td>-0.778840</td>\n",
              "      <td>6.262387</td>\n",
              "      <td>1.494590</td>\n",
              "      <td>-0.088010</td>\n",
              "      <td>0.197582</td>\n",
              "    </tr>\n",
              "    <tr>\n",
              "      <th>25</th>\n",
              "      <td>2004-06-01</td>\n",
              "      <td>7.219572</td>\n",
              "      <td>7.151717</td>\n",
              "      <td>-0.067854</td>\n",
              "      <td>-0.067854</td>\n",
              "      <td>5.436851</td>\n",
              "      <td>1.516380</td>\n",
              "      <td>-0.042415</td>\n",
              "      <td>0.308755</td>\n",
              "    </tr>\n",
              "    <tr>\n",
              "      <th>26</th>\n",
              "      <td>2004-09-01</td>\n",
              "      <td>7.175731</td>\n",
              "      <td>7.493640</td>\n",
              "      <td>0.317909</td>\n",
              "      <td>0.317909</td>\n",
              "      <td>5.485951</td>\n",
              "      <td>1.636279</td>\n",
              "      <td>-0.003181</td>\n",
              "      <td>0.056682</td>\n",
              "    </tr>\n",
              "    <tr>\n",
              "      <th>27</th>\n",
              "      <td>2004-12-01</td>\n",
              "      <td>7.482187</td>\n",
              "      <td>7.933131</td>\n",
              "      <td>0.450944</td>\n",
              "      <td>0.450944</td>\n",
              "      <td>5.748234</td>\n",
              "      <td>1.610539</td>\n",
              "      <td>0.037113</td>\n",
              "      <td>0.086301</td>\n",
              "    </tr>\n",
              "    <tr>\n",
              "      <th>28</th>\n",
              "      <td>2005-03-01</td>\n",
              "      <td>7.691296</td>\n",
              "      <td>7.302385</td>\n",
              "      <td>-0.388911</td>\n",
              "      <td>-0.388911</td>\n",
              "      <td>6.085359</td>\n",
              "      <td>1.469744</td>\n",
              "      <td>0.066803</td>\n",
              "      <td>0.069390</td>\n",
              "    </tr>\n",
              "    <tr>\n",
              "      <th>...</th>\n",
              "      <td>...</td>\n",
              "      <td>...</td>\n",
              "      <td>...</td>\n",
              "      <td>...</td>\n",
              "      <td>...</td>\n",
              "      <td>...</td>\n",
              "      <td>...</td>\n",
              "      <td>...</td>\n",
              "      <td>...</td>\n",
              "    </tr>\n",
              "    <tr>\n",
              "      <th>100</th>\n",
              "      <td>2023-03-01</td>\n",
              "      <td>7.796468</td>\n",
              "      <td>7.341027</td>\n",
              "      <td>-0.455441</td>\n",
              "      <td>-0.455441</td>\n",
              "      <td>6.444981</td>\n",
              "      <td>1.453764</td>\n",
              "      <td>-0.061501</td>\n",
              "      <td>-0.040775</td>\n",
              "    </tr>\n",
              "    <tr>\n",
              "      <th>101</th>\n",
              "      <td>2023-06-01</td>\n",
              "      <td>6.617762</td>\n",
              "      <td>5.310332</td>\n",
              "      <td>-1.307430</td>\n",
              "      <td>-1.307430</td>\n",
              "      <td>5.631167</td>\n",
              "      <td>1.274021</td>\n",
              "      <td>-0.064682</td>\n",
              "      <td>-0.222744</td>\n",
              "    </tr>\n",
              "    <tr>\n",
              "      <th>102</th>\n",
              "      <td>2023-09-01</td>\n",
              "      <td>4.998147</td>\n",
              "      <td>4.692821</td>\n",
              "      <td>-0.305325</td>\n",
              "      <td>-0.305325</td>\n",
              "      <td>4.073458</td>\n",
              "      <td>1.094179</td>\n",
              "      <td>-0.067863</td>\n",
              "      <td>-0.101627</td>\n",
              "    </tr>\n",
              "    <tr>\n",
              "      <th>103</th>\n",
              "      <td>2023-12-01</td>\n",
              "      <td>4.742358</td>\n",
              "      <td>4.132516</td>\n",
              "      <td>-0.609842</td>\n",
              "      <td>-0.609842</td>\n",
              "      <td>3.599777</td>\n",
              "      <td>1.038967</td>\n",
              "      <td>-0.069984</td>\n",
              "      <td>0.173597</td>\n",
              "    </tr>\n",
              "    <tr>\n",
              "      <th>104</th>\n",
              "      <td>2024-03-01</td>\n",
              "      <td>3.799169</td>\n",
              "      <td>3.255330</td>\n",
              "      <td>-0.543839</td>\n",
              "      <td>-0.543839</td>\n",
              "      <td>3.169977</td>\n",
              "      <td>0.975142</td>\n",
              "      <td>-0.063622</td>\n",
              "      <td>-0.282328</td>\n",
              "    </tr>\n",
              "  </tbody>\n",
              "</table>\n",
              "<p>81 rows × 9 columns</p>\n",
              "</div>"
            ],
            "text/plain": [
              "          date    Modelo  IPCA EX0    Desvio   Resíduo  ipca_nucleo_lag1  \\\n",
              "24  2004-03-01  7.866548  7.087708 -0.778840 -0.778840          6.262387   \n",
              "25  2004-06-01  7.219572  7.151717 -0.067854 -0.067854          5.436851   \n",
              "26  2004-09-01  7.175731  7.493640  0.317909  0.317909          5.485951   \n",
              "27  2004-12-01  7.482187  7.933131  0.450944  0.450944          5.748234   \n",
              "28  2005-03-01  7.691296  7.302385 -0.388911 -0.388911          6.085359   \n",
              "..         ...       ...       ...       ...       ...               ...   \n",
              "100 2023-03-01  7.796468  7.341027 -0.455441 -0.455441          6.444981   \n",
              "101 2023-06-01  6.617762  5.310332 -1.307430 -1.307430          5.631167   \n",
              "102 2023-09-01  4.998147  4.692821 -0.305325 -0.305325          4.073458   \n",
              "103 2023-12-01  4.742358  4.132516 -0.609842 -0.609842          3.599777   \n",
              "104 2024-03-01  3.799169  3.255330 -0.543839 -0.543839          3.169977   \n",
              "\n",
              "     ipca_exp_12m  hiato_lag1  ic_br_lag1  \n",
              "24       1.494590   -0.088010    0.197582  \n",
              "25       1.516380   -0.042415    0.308755  \n",
              "26       1.636279   -0.003181    0.056682  \n",
              "27       1.610539    0.037113    0.086301  \n",
              "28       1.469744    0.066803    0.069390  \n",
              "..            ...         ...         ...  \n",
              "100      1.453764   -0.061501   -0.040775  \n",
              "101      1.274021   -0.064682   -0.222744  \n",
              "102      1.094179   -0.067863   -0.101627  \n",
              "103      1.038967   -0.069984    0.173597  \n",
              "104      0.975142   -0.063622   -0.282328  \n",
              "\n",
              "[81 rows x 9 columns]"
            ]
          },
          "execution_count": 23,
          "metadata": {},
          "output_type": "execute_result"
        }
      ],
      "source": [
        "phillips_fit"
      ]
    },
    {
      "cell_type": "markdown",
      "metadata": {
        "id": "w0SBXcptrvdI"
      },
      "source": [
        "#### 3.2.1 Ajuste do Modelo"
      ]
    },
    {
      "cell_type": "code",
      "execution_count": 24,
      "metadata": {
        "colab": {
          "base_uri": "https://localhost:8080/",
          "height": 734
        },
        "id": "q5NtEgwfJqUX",
        "outputId": "199c890d-4cb3-4606-d573-e51c581b2861"
      },
      "outputs": [
        {
          "data": {
            "image/png": "[encoded data removed]",
            "text/plain": [
              "<Figure size 1000x700 with 1 Axes>"
            ]
          },
          "metadata": {
            "needs_background": "light"
          },
          "output_type": "display_data"
        },
        {
          "data": {
            "text/plain": [
              "<ggplot: (89531252986)>"
            ]
          },
          "execution_count": 24,
          "metadata": {},
          "output_type": "execute_result"
        }
      ],
      "source": [
        "# Altera para long\n",
        "phillips_fit_long = phillips_fit[['date', 'Modelo', 'IPCA EX0']].melt(id_vars = ['date'])\n",
        "\n",
        "# Criação do gráfico\n",
        "(\n",
        "  ggplot(phillips_fit_long, aes(x = 'date', y = 'value', color = 'variable')) +\n",
        "  geom_line(size =  1) +\n",
        "  theme_minimal() +\n",
        "  scale_color_manual(values = ['#b22200', '#282f6b']) +\n",
        "  scale_x_datetime(date_breaks = '2 years', date_labels = \"%Y\") +\n",
        "  labs(\n",
        "    title = 'IPCA EX0: Real vs. Valores Ajustados',\n",
        "    x = '',\n",
        "    y = 'a.a.%',\n",
        "    color = \"\",\n",
        "    caption = 'Elaborado por Pedro Marino | Fonte: BCB')+\n",
        "  theme(legend_position = 'bottom',\n",
        "        figure_size = (10, 7))\n",
        "  )"
      ]
    },
    {
      "cell_type": "markdown",
      "metadata": {
        "id": "NjfeckuezMcr"
      },
      "source": [
        "#### 3.2.2 Resíduos"
      ]
    },
    {
      "cell_type": "code",
      "execution_count": 25,
      "metadata": {
        "colab": {
          "base_uri": "https://localhost:8080/",
          "height": 417
        },
        "id": "CArJft7QzR_D",
        "outputId": "4c8bf518-008d-4dfb-cf3f-07359be9be80"
      },
      "outputs": [
        {
          "data": {
            "image/png": "[encoded data removed]",
            "text/plain": [
              "<Figure size 1500x400 with 3 Axes>"
            ]
          },
          "metadata": {},
          "output_type": "display_data"
        }
      ],
      "source": [
        "import statsmodels.api as sm\n",
        "\n",
        "# Cria uma figura com 1 linha e 3 colunas para os três gráficos\n",
        "fig, axes = plt.subplots(nrows=1, ncols=3, figsize=(15, 4))\n",
        "sns.set()\n",
        "\n",
        "# Gráfico de Linha do Resíduo\n",
        "axes[0].plot(phillips_fit.Resíduo)\n",
        "axes[0].set_title('Gráfico de Linha do Resíduo')\n",
        "axes[0].set_xlabel('Tempo')\n",
        "axes[0].set_ylabel('Resíduo')\n",
        "\n",
        "# Gráfico de Autocorrelação (ACF)\n",
        "sm.graphics.tsa.plot_acf(phillips_fit.Resíduo, lags=40, ax=axes[1], zero = False)\n",
        "axes[1].set_title('Gráfico de Autocorrelação (ACF) dos Resíduos')\n",
        "axes[1].set_xlabel('Lags')\n",
        "axes[1].set_ylabel('Autocorrelação')\n",
        "\n",
        "# Gráfico de Histograma\n",
        "axes[2].hist(phillips_fit.Resíduo, bins=20, edgecolor='k')\n",
        "axes[2].set_title('Histograma dos Resíduos')\n",
        "axes[2].set_xlabel('Resíduo')\n",
        "axes[2].set_ylabel('Frequência')\n",
        "\n",
        "plt.tight_layout()  # Para garantir que os gráficos não se sobreponham\n",
        "plt.show()"
      ]
    },
    {
      "cell_type": "markdown",
      "metadata": {
        "id": "nAf_h_Cer0pT"
      },
      "source": [
        "#### 3.2.3 Contribuição das variáveis"
      ]
    },
    {
      "cell_type": "code",
      "execution_count": 26,
      "metadata": {
        "id": "M9KmzL6FQCr4"
      },
      "outputs": [],
      "source": [
        "# Seleciona as colunas para o gráfico\n",
        "phillips_fit_plot = phillips_fit[['date', 'ipca_nucleo_lag1', 'ipca_exp_12m', 'hiato_lag1', 'ic_br_lag1', 'Resíduo']].set_index('date', drop = True)\n",
        "\n",
        "# Altera o tipo de dado dataS\n",
        "phillips_fit_plot.index = pd.PeriodIndex(phillips_fit_plot.index, freq = 'Q')"
      ]
    },
    {
      "cell_type": "code",
      "execution_count": 27,
      "metadata": {
        "colab": {
          "base_uri": "https://localhost:8080/",
          "height": 423
        },
        "id": "r5ctJdzc-GmH",
        "outputId": "0fdd81be-0d67-4187-e13b-96141ead5bfe"
      },
      "outputs": [
        {
          "data": {
            "text/html": [
              "<div>\n",
              "<style scoped>\n",
              "    .dataframe tbody tr th:only-of-type {\n",
              "        vertical-align: middle;\n",
              "    }\n",
              "\n",
              "    .dataframe tbody tr th {\n",
              "        vertical-align: top;\n",
              "    }\n",
              "\n",
              "    .dataframe thead th {\n",
              "        text-align: right;\n",
              "    }\n",
              "</style>\n",
              "<table border=\"1\" class=\"dataframe\">\n",
              "  <thead>\n",
              "    <tr style=\"text-align: right;\">\n",
              "      <th></th>\n",
              "      <th>date</th>\n",
              "      <th>variable</th>\n",
              "      <th>value</th>\n",
              "    </tr>\n",
              "  </thead>\n",
              "  <tbody>\n",
              "    <tr>\n",
              "      <th>0</th>\n",
              "      <td>2004-03-01</td>\n",
              "      <td>ipca_nucleo_lag1</td>\n",
              "      <td>6.262387</td>\n",
              "    </tr>\n",
              "    <tr>\n",
              "      <th>1</th>\n",
              "      <td>2004-06-01</td>\n",
              "      <td>ipca_nucleo_lag1</td>\n",
              "      <td>5.436851</td>\n",
              "    </tr>\n",
              "    <tr>\n",
              "      <th>2</th>\n",
              "      <td>2004-09-01</td>\n",
              "      <td>ipca_nucleo_lag1</td>\n",
              "      <td>5.485951</td>\n",
              "    </tr>\n",
              "    <tr>\n",
              "      <th>3</th>\n",
              "      <td>2004-12-01</td>\n",
              "      <td>ipca_nucleo_lag1</td>\n",
              "      <td>5.748234</td>\n",
              "    </tr>\n",
              "    <tr>\n",
              "      <th>4</th>\n",
              "      <td>2005-03-01</td>\n",
              "      <td>ipca_nucleo_lag1</td>\n",
              "      <td>6.085359</td>\n",
              "    </tr>\n",
              "    <tr>\n",
              "      <th>...</th>\n",
              "      <td>...</td>\n",
              "      <td>...</td>\n",
              "      <td>...</td>\n",
              "    </tr>\n",
              "    <tr>\n",
              "      <th>400</th>\n",
              "      <td>2023-03-01</td>\n",
              "      <td>Resíduo</td>\n",
              "      <td>-0.455441</td>\n",
              "    </tr>\n",
              "    <tr>\n",
              "      <th>401</th>\n",
              "      <td>2023-06-01</td>\n",
              "      <td>Resíduo</td>\n",
              "      <td>-1.307430</td>\n",
              "    </tr>\n",
              "    <tr>\n",
              "      <th>402</th>\n",
              "      <td>2023-09-01</td>\n",
              "      <td>Resíduo</td>\n",
              "      <td>-0.305325</td>\n",
              "    </tr>\n",
              "    <tr>\n",
              "      <th>403</th>\n",
              "      <td>2023-12-01</td>\n",
              "      <td>Resíduo</td>\n",
              "      <td>-0.609842</td>\n",
              "    </tr>\n",
              "    <tr>\n",
              "      <th>404</th>\n",
              "      <td>2024-03-01</td>\n",
              "      <td>Resíduo</td>\n",
              "      <td>-0.543839</td>\n",
              "    </tr>\n",
              "  </tbody>\n",
              "</table>\n",
              "<p>405 rows × 3 columns</p>\n",
              "</div>"
            ],
            "text/plain": [
              "          date          variable     value\n",
              "0   2004-03-01  ipca_nucleo_lag1  6.262387\n",
              "1   2004-06-01  ipca_nucleo_lag1  5.436851\n",
              "2   2004-09-01  ipca_nucleo_lag1  5.485951\n",
              "3   2004-12-01  ipca_nucleo_lag1  5.748234\n",
              "4   2005-03-01  ipca_nucleo_lag1  6.085359\n",
              "..         ...               ...       ...\n",
              "400 2023-03-01           Resíduo -0.455441\n",
              "401 2023-06-01           Resíduo -1.307430\n",
              "402 2023-09-01           Resíduo -0.305325\n",
              "403 2023-12-01           Resíduo -0.609842\n",
              "404 2024-03-01           Resíduo -0.543839\n",
              "\n",
              "[405 rows x 3 columns]"
            ]
          },
          "execution_count": 27,
          "metadata": {},
          "output_type": "execute_result"
        }
      ],
      "source": [
        "phillips_fit_plot_long = phillips_fit[['date', 'ipca_nucleo_lag1', 'ipca_exp_12m', 'hiato_lag1', 'ic_br_lag1', 'Resíduo']].melt(id_vars = ['date'])\n",
        "\n",
        "phillips_fit_plot_long"
      ]
    },
    {
      "cell_type": "code",
      "execution_count": 28,
      "metadata": {
        "colab": {
          "base_uri": "https://localhost:8080/",
          "height": 734
        },
        "id": "zUe93SbG-WUG",
        "outputId": "7a217182-b5b0-4d14-ceac-5a1528651bfd"
      },
      "outputs": [
        {
          "data": {
            "image/png": "[encoded data removed]",
            "text/plain": [
              "<Figure size 1000x700 with 1 Axes>"
            ]
          },
          "metadata": {
            "needs_background": "light"
          },
          "output_type": "display_data"
        },
        {
          "data": {
            "text/plain": [
              "<ggplot: (89532429575)>"
            ]
          },
          "execution_count": 28,
          "metadata": {},
          "output_type": "execute_result"
        }
      ],
      "source": [
        "(\n",
        " ggplot(phillips_fit_plot_long, aes(x = 'date', y = 'value', fill = 'variable'))+\n",
        " geom_col() +\n",
        " geom_hline(yintercept = 0, colour = 'black') +\n",
        " theme_minimal() +\n",
        " scale_fill_manual(values = ['black', \"#666666\", '#224f20', '#b22200', '#eace3f']) +\n",
        " scale_x_datetime(date_breaks = '2 years', date_labels = \"%Y\") +\n",
        " labs(\n",
        "    title = 'Contribuição para o Núcleo de Inflação',\n",
        "    x = '',\n",
        "    y = 'p.p',\n",
        "    fill = \"\",\n",
        "    caption = 'Elaborado por Pedro Marino | Fonte: BCB')+\n",
        "  theme(legend_position = 'top',\n",
        "        figure_size = (10, 7))\n",
        "  )"
      ]
    }
  ],
  "metadata": {
    "colab": {
      "provenance": [],
      "toc_visible": true
    },
    "kernelspec": {
      "display_name": "Python 3",
      "name": "python3"
    },
    "language_info": {
      "codemirror_mode": {
        "name": "ipython",
        "version": 3
      },
      "file_extension": ".py",
      "mimetype": "text/x-python",
      "name": "python",
      "nbconvert_exporter": "python",
      "pygments_lexer": "ipython3",
      "version": "3.9.12"
    }
  },
  "nbformat": 4,
  "nbformat_minor": 0
}
